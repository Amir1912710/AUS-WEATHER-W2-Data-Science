{
 "cells": [
  {
   "cell_type": "code",
   "execution_count": 1,
   "id": "773ade92",
   "metadata": {},
   "outputs": [],
   "source": [
    "import pandas as pd\n",
    "import numpy as np"
   ]
  },
  {
   "cell_type": "code",
   "execution_count": 2,
   "id": "36c36aab",
   "metadata": {},
   "outputs": [],
   "source": [
    "Bankss=pd.read_csv('all_atms_no_dups.csv')\n"
   ]
  },
  {
   "cell_type": "code",
   "execution_count": 3,
   "id": "0f26b61b",
   "metadata": {},
   "outputs": [],
   "source": [
    "Bankss['Description'] = Bankss['Description'].str.lower()\n"
   ]
  },
  {
   "cell_type": "code",
   "execution_count": 4,
   "id": "ae89fb9f",
   "metadata": {},
   "outputs": [],
   "source": [
    "Bankss['Description'] = Bankss['Description'].str.strip()\n"
   ]
  },
  {
   "cell_type": "code",
   "execution_count": 5,
   "id": "1dc64bb5",
   "metadata": {},
   "outputs": [],
   "source": [
    "Bankss['Description'] = Bankss['Description'].str.replace(\" , \", \",\")\n",
    "Bankss['Description'] = Bankss['Description'].str.replace(\"– \", \"–\")\n",
    "Bankss['Description'] = Bankss['Description'].str.replace(\" -\", \"–\")\n",
    "\n"
   ]
  },
  {
   "cell_type": "code",
   "execution_count": 6,
   "id": "d7e98730",
   "metadata": {},
   "outputs": [],
   "source": [
    "Bankss['Description'] = Bankss['Description'].str.replace(\", \", \",\")"
   ]
  },
  {
   "cell_type": "code",
   "execution_count": 7,
   "id": "37173579",
   "metadata": {},
   "outputs": [],
   "source": [
    "Bankss['Description'] = Bankss['Description'].str.replace(\"- \", \"–\")\n"
   ]
  },
  {
   "cell_type": "code",
   "execution_count": 8,
   "id": "751c5664",
   "metadata": {},
   "outputs": [
    {
     "name": "stderr",
     "output_type": "stream",
     "text": [
      "C:\\Users\\Mai & Naira &Mustafa\\AppData\\Local\\Temp\\ipykernel_25552\\4108284461.py:1: FutureWarning: The default value of regex will change from True to False in a future version.\n",
      "  Bankss['Description'] = Bankss['Description'].str.replace(\" . \", \".\")\n"
     ]
    }
   ],
   "source": [
    "Bankss['Description'] = Bankss['Description'].str.replace(\" . \", \".\")\n"
   ]
  },
  {
   "cell_type": "code",
   "execution_count": 9,
   "id": "ff069fe7",
   "metadata": {},
   "outputs": [],
   "source": [
    "Bankss['Description'] = Bankss['Description'].str.replace(\"– \", \"–\")\n"
   ]
  },
  {
   "cell_type": "code",
   "execution_count": 10,
   "id": "02ca43b2",
   "metadata": {},
   "outputs": [
    {
     "name": "stdout",
     "output_type": "stream",
     "text": [
      "['withdrawal' 'withdrawal–deposit –forex' 'سحب فقط' 'cash dispenser only'\n",
      " 'withdrawal,deposit' 'withdrawal only' 'withdrawal–deposit–forex'\n",
      " 'سحب–إيداع–تغيير عملة' 'سحب–إيداع–تغيير عملة–صرف من الإيداعات gbru'\n",
      " 'deposit,withdraw and exchange' 'full function'\n",
      " 'withdrawal,deposit and exchange' 'withdrawal ,deposit'\n",
      " 'withdraws–deposits–forex' 'withdraw only' 'withdrawal,deposit,exchange'\n",
      " 'withdraw,deposit and exchange' nan 'withdrawal-deposit-exchange'\n",
      " 'withdraw–deposit–exchange' 'with drawal,deposit' 'withdrawal deposit'\n",
      " 'withdrawal.deposit' 'withdraw–deposit–exchange currency'\n",
      " 'withdrawal deposit forex' 'withdrawal,forex,deposit'\n",
      " 'withdrawal forex deposit' 'cash withdrawal' 'exchange' 'سحب'\n",
      " 'withdrawal,deposit,forex' 'gbru سحب–إيداع–تغيير عملة–صرف من الإيداعات'\n",
      " 'withdrawal,forex,deposits' 'سحب وايداع وتغيير عملة'\n",
      " 'withdrawal,forex deposit' 'withdrawal–deposit–currency exchange'\n",
      " 'withdrawal and deposit' 'with drawal deposit forex' '8 to 5' '8am-5pm'\n",
      " '8 am to.pm' 'withdrawal-deposit-currency exchange'\n",
      " 'withrdrawal,deposit,foriegn currency exchange' 'withdrawl only'\n",
      " 'withdraw–deposit–currency exchange' 'withdraw'\n",
      " 'withdraw–deposit–change currency' '8:300–3:00'\n",
      " 'forex,withdrawal,deposit' 'deposit' 'withdrawal ,forex ,deposit'\n",
      " 'withdrawal.deposit,forex' 'forex withdrawal deposit'\n",
      " 'forex,deposit,withdrawal' 'forex deposit withdrawal'\n",
      " 'from 8.30 am to.pm\\r\\rwithdrawal–deposit–currency exchange'\n",
      " 'سحب–إيداع–تغيير عملة–صرف من الإيداعات gbru+ barcode'\n",
      " 'withdrawal–deposit–change currency' 'withdrawal–exchange–deposit'\n",
      " 'deposit,withdrawal,forex' '8:30 am–3:00 pm\\r\\rwithdrawal–deposit–forex'\n",
      " 'with drawal deposit' 'cash withdraw,deposit and exchange'\n",
      " 'deposit,withdrawal' '8:30 am–3:00pm\\r\\rwithdrawal,deposit,exchange'\n",
      " 'withdrawal,depsoit' 'atm center' 'with drawal,cash ,forex' 'سحب وايداع'\n",
      " 'deposits,withdrawal' '25.142973,34.840527' 'depositand withdrawal'\n",
      " 'deposit withdrawal' 'with drawal' 'deposit and withdrawal']\n"
     ]
    }
   ],
   "source": [
    "unique_values = Bankss['Description'].unique()\n",
    "\n",
    "print(unique_values)"
   ]
  },
  {
   "cell_type": "code",
   "execution_count": 11,
   "id": "7157ba82",
   "metadata": {},
   "outputs": [
    {
     "name": "stdout",
     "output_type": "stream",
     "text": [
      "74\n"
     ]
    }
   ],
   "source": [
    "unique_count = Bankss['Description'].nunique()\n",
    "\n",
    "print(unique_count)"
   ]
  },
  {
   "cell_type": "code",
   "execution_count": 12,
   "id": "d8e8cb88",
   "metadata": {},
   "outputs": [],
   "source": [
    "Bankss['Description'] = Bankss['Description'].str.replace(r'(withdrawal only|with drawal only|withdrawal Only|withdrawal)', 'withdraw', case=False, regex=True)\n"
   ]
  },
  {
   "cell_type": "code",
   "execution_count": 13,
   "id": "fc185655",
   "metadata": {},
   "outputs": [
    {
     "name": "stdout",
     "output_type": "stream",
     "text": [
      "['withdraw' 'withdraw–deposit –forex' 'سحب فقط' 'cash dispenser only'\n",
      " 'withdraw,deposit' 'withdraw–deposit–forex' 'سحب–إيداع–تغيير عملة'\n",
      " 'سحب–إيداع–تغيير عملة–صرف من الإيداعات gbru'\n",
      " 'deposit,withdraw and exchange' 'full function'\n",
      " 'withdraw,deposit and exchange' 'withdraw ,deposit'\n",
      " 'withdraws–deposits–forex' 'withdraw only' 'withdraw,deposit,exchange'\n",
      " nan 'withdraw-deposit-exchange' 'withdraw–deposit–exchange'\n",
      " 'with drawal,deposit' 'withdraw deposit' 'withdraw.deposit'\n",
      " 'withdraw–deposit–exchange currency' 'withdraw deposit forex'\n",
      " 'withdraw,forex,deposit' 'withdraw forex deposit' 'cash withdraw'\n",
      " 'exchange' 'سحب' 'withdraw,deposit,forex'\n",
      " 'gbru سحب–إيداع–تغيير عملة–صرف من الإيداعات' 'withdraw,forex,deposits'\n",
      " 'سحب وايداع وتغيير عملة' 'withdraw,forex deposit'\n",
      " 'withdraw–deposit–currency exchange' 'withdraw and deposit'\n",
      " 'with drawal deposit forex' '8 to 5' '8am-5pm' '8 am to.pm'\n",
      " 'withdraw-deposit-currency exchange'\n",
      " 'withrdrawal,deposit,foriegn currency exchange' 'withdrawl only'\n",
      " 'withdraw–deposit–change currency' '8:300–3:00' 'forex,withdraw,deposit'\n",
      " 'deposit' 'withdraw ,forex ,deposit' 'withdraw.deposit,forex'\n",
      " 'forex withdraw deposit' 'forex,deposit,withdraw'\n",
      " 'forex deposit withdraw'\n",
      " 'from 8.30 am to.pm\\r\\rwithdraw–deposit–currency exchange'\n",
      " 'سحب–إيداع–تغيير عملة–صرف من الإيداعات gbru+ barcode'\n",
      " 'withdraw–exchange–deposit' 'deposit,withdraw,forex'\n",
      " '8:30 am–3:00 pm\\r\\rwithdraw–deposit–forex' 'with drawal deposit'\n",
      " 'cash withdraw,deposit and exchange' 'deposit,withdraw'\n",
      " '8:30 am–3:00pm\\r\\rwithdraw,deposit,exchange' 'withdraw,depsoit'\n",
      " 'atm center' 'with drawal,cash ,forex' 'سحب وايداع' 'deposits,withdraw'\n",
      " '25.142973,34.840527' 'depositand withdraw' 'deposit withdraw'\n",
      " 'with drawal' 'deposit and withdraw']\n"
     ]
    }
   ],
   "source": [
    "unique_values = Bankss['Description'].unique()\n",
    "\n",
    "print(unique_values)"
   ]
  },
  {
   "cell_type": "code",
   "execution_count": 14,
   "id": "60e64a52",
   "metadata": {},
   "outputs": [],
   "source": [
    "Bankss['Description'] = Bankss['Description'].str.replace(r'(سحب فقط)', 'withdraw', case=False, regex=True)\n"
   ]
  },
  {
   "cell_type": "code",
   "execution_count": 15,
   "id": "90ad0563",
   "metadata": {},
   "outputs": [
    {
     "name": "stdout",
     "output_type": "stream",
     "text": [
      "['withdraw' 'withdraw–deposit –forex' 'cash dispenser only'\n",
      " 'withdraw,deposit' 'withdraw–deposit–forex' 'سحب–إيداع–تغيير عملة'\n",
      " 'سحب–إيداع–تغيير عملة–صرف من الإيداعات gbru'\n",
      " 'deposit,withdraw and exchange' 'full function'\n",
      " 'withdraw,deposit and exchange' 'withdraw ,deposit'\n",
      " 'withdraws–deposits–forex' 'withdraw only' 'withdraw,deposit,exchange'\n",
      " nan 'withdraw-deposit-exchange' 'withdraw–deposit–exchange'\n",
      " 'with drawal,deposit' 'withdraw deposit' 'withdraw.deposit'\n",
      " 'withdraw–deposit–exchange currency' 'withdraw deposit forex'\n",
      " 'withdraw,forex,deposit' 'withdraw forex deposit' 'cash withdraw'\n",
      " 'exchange' 'سحب' 'withdraw,deposit,forex'\n",
      " 'gbru سحب–إيداع–تغيير عملة–صرف من الإيداعات' 'withdraw,forex,deposits'\n",
      " 'سحب وايداع وتغيير عملة' 'withdraw,forex deposit'\n",
      " 'withdraw–deposit–currency exchange' 'withdraw and deposit'\n",
      " 'with drawal deposit forex' '8 to 5' '8am-5pm' '8 am to.pm'\n",
      " 'withdraw-deposit-currency exchange'\n",
      " 'withrdrawal,deposit,foriegn currency exchange' 'withdrawl only'\n",
      " 'withdraw–deposit–change currency' '8:300–3:00' 'forex,withdraw,deposit'\n",
      " 'deposit' 'withdraw ,forex ,deposit' 'withdraw.deposit,forex'\n",
      " 'forex withdraw deposit' 'forex,deposit,withdraw'\n",
      " 'forex deposit withdraw'\n",
      " 'from 8.30 am to.pm\\r\\rwithdraw–deposit–currency exchange'\n",
      " 'سحب–إيداع–تغيير عملة–صرف من الإيداعات gbru+ barcode'\n",
      " 'withdraw–exchange–deposit' 'deposit,withdraw,forex'\n",
      " '8:30 am–3:00 pm\\r\\rwithdraw–deposit–forex' 'with drawal deposit'\n",
      " 'cash withdraw,deposit and exchange' 'deposit,withdraw'\n",
      " '8:30 am–3:00pm\\r\\rwithdraw,deposit,exchange' 'withdraw,depsoit'\n",
      " 'atm center' 'with drawal,cash ,forex' 'سحب وايداع' 'deposits,withdraw'\n",
      " '25.142973,34.840527' 'depositand withdraw' 'deposit withdraw'\n",
      " 'with drawal' 'deposit and withdraw']\n"
     ]
    }
   ],
   "source": [
    "unique_values = Bankss['Description'].unique()\n",
    "\n",
    "print(unique_values)"
   ]
  },
  {
   "cell_type": "code",
   "execution_count": 16,
   "id": "472116be",
   "metadata": {},
   "outputs": [],
   "source": [
    "Bankss['Description'] = Bankss['Description'].str.replace(r'(سحب)', 'withdraw', case=False, regex=True)\n"
   ]
  },
  {
   "cell_type": "code",
   "execution_count": 17,
   "id": "b04c2709",
   "metadata": {},
   "outputs": [
    {
     "name": "stdout",
     "output_type": "stream",
     "text": [
      "['withdraw' 'withdraw–deposit –forex' 'cash dispenser only'\n",
      " 'withdraw,deposit' 'withdraw–deposit–forex' 'withdraw–إيداع–تغيير عملة'\n",
      " 'withdraw–إيداع–تغيير عملة–صرف من الإيداعات gbru'\n",
      " 'deposit,withdraw and exchange' 'full function'\n",
      " 'withdraw,deposit and exchange' 'withdraw ,deposit'\n",
      " 'withdraws–deposits–forex' 'withdraw only' 'withdraw,deposit,exchange'\n",
      " nan 'withdraw-deposit-exchange' 'withdraw–deposit–exchange'\n",
      " 'with drawal,deposit' 'withdraw deposit' 'withdraw.deposit'\n",
      " 'withdraw–deposit–exchange currency' 'withdraw deposit forex'\n",
      " 'withdraw,forex,deposit' 'withdraw forex deposit' 'cash withdraw'\n",
      " 'exchange' 'withdraw,deposit,forex'\n",
      " 'gbru withdraw–إيداع–تغيير عملة–صرف من الإيداعات'\n",
      " 'withdraw,forex,deposits' 'withdraw وايداع وتغيير عملة'\n",
      " 'withdraw,forex deposit' 'withdraw–deposit–currency exchange'\n",
      " 'withdraw and deposit' 'with drawal deposit forex' '8 to 5' '8am-5pm'\n",
      " '8 am to.pm' 'withdraw-deposit-currency exchange'\n",
      " 'withrdrawal,deposit,foriegn currency exchange' 'withdrawl only'\n",
      " 'withdraw–deposit–change currency' '8:300–3:00' 'forex,withdraw,deposit'\n",
      " 'deposit' 'withdraw ,forex ,deposit' 'withdraw.deposit,forex'\n",
      " 'forex withdraw deposit' 'forex,deposit,withdraw'\n",
      " 'forex deposit withdraw'\n",
      " 'from 8.30 am to.pm\\r\\rwithdraw–deposit–currency exchange'\n",
      " 'withdraw–إيداع–تغيير عملة–صرف من الإيداعات gbru+ barcode'\n",
      " 'withdraw–exchange–deposit' 'deposit,withdraw,forex'\n",
      " '8:30 am–3:00 pm\\r\\rwithdraw–deposit–forex' 'with drawal deposit'\n",
      " 'cash withdraw,deposit and exchange' 'deposit,withdraw'\n",
      " '8:30 am–3:00pm\\r\\rwithdraw,deposit,exchange' 'withdraw,depsoit'\n",
      " 'atm center' 'with drawal,cash ,forex' 'withdraw وايداع'\n",
      " 'deposits,withdraw' '25.142973,34.840527' 'depositand withdraw'\n",
      " 'deposit withdraw' 'with drawal' 'deposit and withdraw']\n"
     ]
    }
   ],
   "source": [
    "unique_values = Bankss['Description'].unique()\n",
    "\n",
    "print(unique_values)"
   ]
  },
  {
   "cell_type": "code",
   "execution_count": 18,
   "id": "efb7a858",
   "metadata": {},
   "outputs": [],
   "source": [
    "Bankss['Description'] = Bankss['Description'].str.replace(\" ,\", \",\")\n"
   ]
  },
  {
   "cell_type": "code",
   "execution_count": 19,
   "id": "848fb635",
   "metadata": {},
   "outputs": [
    {
     "name": "stdout",
     "output_type": "stream",
     "text": [
      "['withdraw' 'withdraw–deposit –forex' 'cash dispenser only'\n",
      " 'withdraw,deposit' 'withdraw–deposit–forex' 'withdraw–إيداع–تغيير عملة'\n",
      " 'withdraw–إيداع–تغيير عملة–صرف من الإيداعات gbru'\n",
      " 'deposit,withdraw and exchange' 'full function'\n",
      " 'withdraw,deposit and exchange' 'withdraws–deposits–forex'\n",
      " 'withdraw only' 'withdraw,deposit,exchange' nan\n",
      " 'withdraw-deposit-exchange' 'withdraw–deposit–exchange'\n",
      " 'with drawal,deposit' 'withdraw deposit' 'withdraw.deposit'\n",
      " 'withdraw–deposit–exchange currency' 'withdraw deposit forex'\n",
      " 'withdraw,forex,deposit' 'withdraw forex deposit' 'cash withdraw'\n",
      " 'exchange' 'withdraw,deposit,forex'\n",
      " 'gbru withdraw–إيداع–تغيير عملة–صرف من الإيداعات'\n",
      " 'withdraw,forex,deposits' 'withdraw وايداع وتغيير عملة'\n",
      " 'withdraw,forex deposit' 'withdraw–deposit–currency exchange'\n",
      " 'withdraw and deposit' 'with drawal deposit forex' '8 to 5' '8am-5pm'\n",
      " '8 am to.pm' 'withdraw-deposit-currency exchange'\n",
      " 'withrdrawal,deposit,foriegn currency exchange' 'withdrawl only'\n",
      " 'withdraw–deposit–change currency' '8:300–3:00' 'forex,withdraw,deposit'\n",
      " 'deposit' 'withdraw.deposit,forex' 'forex withdraw deposit'\n",
      " 'forex,deposit,withdraw' 'forex deposit withdraw'\n",
      " 'from 8.30 am to.pm\\r\\rwithdraw–deposit–currency exchange'\n",
      " 'withdraw–إيداع–تغيير عملة–صرف من الإيداعات gbru+ barcode'\n",
      " 'withdraw–exchange–deposit' 'deposit,withdraw,forex'\n",
      " '8:30 am–3:00 pm\\r\\rwithdraw–deposit–forex' 'with drawal deposit'\n",
      " 'cash withdraw,deposit and exchange' 'deposit,withdraw'\n",
      " '8:30 am–3:00pm\\r\\rwithdraw,deposit,exchange' 'withdraw,depsoit'\n",
      " 'atm center' 'with drawal,cash,forex' 'withdraw وايداع'\n",
      " 'deposits,withdraw' '25.142973,34.840527' 'depositand withdraw'\n",
      " 'deposit withdraw' 'with drawal' 'deposit and withdraw']\n"
     ]
    }
   ],
   "source": [
    "unique_values = Bankss['Description'].unique()\n",
    "\n",
    "print(unique_values)"
   ]
  },
  {
   "cell_type": "code",
   "execution_count": 20,
   "id": "80aea07e",
   "metadata": {},
   "outputs": [],
   "source": [
    "# Define a custom function to perform the replacement for strings\n",
    "def replace_if_length_less_than_19(Description):\n",
    "    if isinstance(Description, str) and len(Description) > 19:\n",
    "        return 'full function'\n",
    "    else:\n",
    "        return Description\n",
    "\n",
    "# Apply the custom function to the 'Description' column\n",
    "Bankss['Description'] = Bankss['Description'].apply(replace_if_length_less_than_19)"
   ]
  },
  {
   "cell_type": "code",
   "execution_count": 21,
   "id": "e18acb57",
   "metadata": {},
   "outputs": [
    {
     "name": "stdout",
     "output_type": "stream",
     "text": [
      "['withdraw' 'full function' 'cash dispenser only' 'withdraw,deposit'\n",
      " 'withdraw only' nan 'with drawal,deposit' 'withdraw deposit'\n",
      " 'withdraw.deposit' 'cash withdraw' 'exchange' '8 to 5' '8am-5pm'\n",
      " '8 am to.pm' 'withdrawl only' '8:300–3:00' 'deposit'\n",
      " 'with drawal deposit' 'deposit,withdraw' 'withdraw,depsoit' 'atm center'\n",
      " 'withdraw وايداع' 'deposits,withdraw' '25.142973,34.840527'\n",
      " 'depositand withdraw' 'deposit withdraw' 'with drawal']\n"
     ]
    }
   ],
   "source": [
    "unique_values = Bankss['Description'].unique()\n",
    "\n",
    "print(unique_values)"
   ]
  },
  {
   "cell_type": "code",
   "execution_count": 22,
   "id": "a113b668",
   "metadata": {},
   "outputs": [],
   "source": [
    "Bankss['Description'] = Bankss['Description'].str.replace(r'(8 to 5)', 'withdraw', case=False, regex=True)\n"
   ]
  },
  {
   "cell_type": "code",
   "execution_count": 23,
   "id": "e50a316d",
   "metadata": {},
   "outputs": [
    {
     "name": "stdout",
     "output_type": "stream",
     "text": [
      "['withdraw' 'full function' 'cash dispenser only' 'withdraw,deposit'\n",
      " 'withdraw only' nan 'with drawal,deposit' 'withdraw deposit'\n",
      " 'withdraw.deposit' 'cash withdraw' 'exchange' '8am-5pm' '8 am to.pm'\n",
      " 'withdrawl only' '8:300–3:00' 'deposit' 'with drawal deposit'\n",
      " 'deposit,withdraw' 'withdraw,depsoit' 'atm center' 'withdraw وايداع'\n",
      " 'deposits,withdraw' '25.142973,34.840527' 'depositand withdraw'\n",
      " 'deposit withdraw' 'with drawal']\n"
     ]
    }
   ],
   "source": [
    "unique_values = Bankss['Description'].unique()\n",
    "\n",
    "print(unique_values)"
   ]
  },
  {
   "cell_type": "code",
   "execution_count": 24,
   "id": "19c3bb86",
   "metadata": {},
   "outputs": [],
   "source": [
    "Bankss['Description'] = Bankss['Description'].str.replace(r'(8am-5pm)', 'withdraw', case=False, regex=True)\n"
   ]
  },
  {
   "cell_type": "code",
   "execution_count": 25,
   "id": "63e74306",
   "metadata": {},
   "outputs": [
    {
     "name": "stdout",
     "output_type": "stream",
     "text": [
      "['withdraw' 'full function' 'cash dispenser only' 'withdraw,deposit'\n",
      " 'withdraw only' nan 'with drawal,deposit' 'withdraw deposit'\n",
      " 'withdraw.deposit' 'cash withdraw' 'exchange' '8 am to.pm'\n",
      " 'withdrawl only' '8:300–3:00' 'deposit' 'with drawal deposit'\n",
      " 'deposit,withdraw' 'withdraw,depsoit' 'atm center' 'withdraw وايداع'\n",
      " 'deposits,withdraw' '25.142973,34.840527' 'depositand withdraw'\n",
      " 'deposit withdraw' 'with drawal']\n"
     ]
    }
   ],
   "source": [
    "unique_values = Bankss['Description'].unique()\n",
    "\n",
    "print(unique_values)"
   ]
  },
  {
   "cell_type": "code",
   "execution_count": 26,
   "id": "bd5e1918",
   "metadata": {},
   "outputs": [],
   "source": [
    "Bankss['Description'] = Bankss['Description'].str.replace(r'(8 am to.pm)', 'withdraw', case=False, regex=True)\n"
   ]
  },
  {
   "cell_type": "code",
   "execution_count": 27,
   "id": "ca304612",
   "metadata": {},
   "outputs": [
    {
     "name": "stdout",
     "output_type": "stream",
     "text": [
      "['withdraw' 'full function' 'cash dispenser only' 'withdraw,deposit'\n",
      " 'withdraw only' nan 'with drawal,deposit' 'withdraw deposit'\n",
      " 'withdraw.deposit' 'cash withdraw' 'exchange' 'withdrawl only'\n",
      " '8:300–3:00' 'deposit' 'with drawal deposit' 'deposit,withdraw'\n",
      " 'withdraw,depsoit' 'atm center' 'withdraw وايداع' 'deposits,withdraw'\n",
      " '25.142973,34.840527' 'depositand withdraw' 'deposit withdraw'\n",
      " 'with drawal']\n"
     ]
    }
   ],
   "source": [
    "unique_values = Bankss['Description'].unique()\n",
    "\n",
    "print(unique_values)"
   ]
  },
  {
   "cell_type": "code",
   "execution_count": 28,
   "id": "f1924504",
   "metadata": {},
   "outputs": [],
   "source": [
    "Bankss['Description'] = Bankss['Description'].str.replace(r'(8:300–3:00)', 'withdraw', case=False, regex=True)\n"
   ]
  },
  {
   "cell_type": "code",
   "execution_count": 29,
   "id": "a14ce50d",
   "metadata": {},
   "outputs": [
    {
     "name": "stdout",
     "output_type": "stream",
     "text": [
      "['withdraw' 'full function' 'cash dispenser only' 'withdraw,deposit'\n",
      " 'withdraw only' nan 'with drawal,deposit' 'withdraw deposit'\n",
      " 'withdraw.deposit' 'cash withdraw' 'exchange' 'withdrawl only' 'deposit'\n",
      " 'with drawal deposit' 'deposit,withdraw' 'withdraw,depsoit' 'atm center'\n",
      " 'withdraw وايداع' 'deposits,withdraw' '25.142973,34.840527'\n",
      " 'depositand withdraw' 'deposit withdraw' 'with drawal']\n"
     ]
    }
   ],
   "source": [
    "unique_values = Bankss['Description'].unique()\n",
    "\n",
    "print(unique_values)"
   ]
  },
  {
   "cell_type": "code",
   "execution_count": 30,
   "id": "0518456a",
   "metadata": {},
   "outputs": [],
   "source": [
    "Bankss['Description'] = Bankss['Description'].str.replace(r'(25.142973,34.840527)', 'withdraw', case=False, regex=True)\n"
   ]
  },
  {
   "cell_type": "code",
   "execution_count": 31,
   "id": "ccca4967",
   "metadata": {},
   "outputs": [
    {
     "name": "stdout",
     "output_type": "stream",
     "text": [
      "['withdraw' 'full function' 'cash dispenser only' 'withdraw,deposit'\n",
      " 'withdraw only' nan 'with drawal,deposit' 'withdraw deposit'\n",
      " 'withdraw.deposit' 'cash withdraw' 'exchange' 'withdrawl only' 'deposit'\n",
      " 'with drawal deposit' 'deposit,withdraw' 'withdraw,depsoit' 'atm center'\n",
      " 'withdraw وايداع' 'deposits,withdraw' 'depositand withdraw'\n",
      " 'deposit withdraw' 'with drawal']\n"
     ]
    }
   ],
   "source": [
    "unique_values = Bankss['Description'].unique()\n",
    "\n",
    "print(unique_values)"
   ]
  },
  {
   "cell_type": "code",
   "execution_count": 32,
   "id": "7b7a07d4",
   "metadata": {},
   "outputs": [],
   "source": [
    "Bankss['Description'] = Bankss['Description'].str.replace(r'(withdraw only|withdrawl only)', 'withdraw', case=False, regex=True)\n"
   ]
  },
  {
   "cell_type": "code",
   "execution_count": 33,
   "id": "4a750457",
   "metadata": {},
   "outputs": [
    {
     "name": "stdout",
     "output_type": "stream",
     "text": [
      "['withdraw' 'full function' 'cash dispenser only' 'withdraw,deposit' nan\n",
      " 'with drawal,deposit' 'withdraw deposit' 'withdraw.deposit'\n",
      " 'cash withdraw' 'exchange' 'deposit' 'with drawal deposit'\n",
      " 'deposit,withdraw' 'withdraw,depsoit' 'atm center' 'withdraw وايداع'\n",
      " 'deposits,withdraw' 'depositand withdraw' 'deposit withdraw'\n",
      " 'with drawal']\n"
     ]
    }
   ],
   "source": [
    "unique_values = Bankss['Description'].unique()\n",
    "\n",
    "print(unique_values)"
   ]
  },
  {
   "cell_type": "code",
   "execution_count": 34,
   "id": "65f4029d",
   "metadata": {},
   "outputs": [],
   "source": [
    "Bankss['Description'] = Bankss['Description'].str.replace(r'(with drawal)', 'withdraw', case=False, regex=True)\n"
   ]
  },
  {
   "cell_type": "code",
   "execution_count": 35,
   "id": "4d792d9a",
   "metadata": {},
   "outputs": [
    {
     "name": "stdout",
     "output_type": "stream",
     "text": [
      "['withdraw' 'full function' 'cash dispenser only' 'withdraw,deposit' nan\n",
      " 'withdraw deposit' 'withdraw.deposit' 'cash withdraw' 'exchange'\n",
      " 'deposit' 'deposit,withdraw' 'withdraw,depsoit' 'atm center'\n",
      " 'withdraw وايداع' 'deposits,withdraw' 'depositand withdraw'\n",
      " 'deposit withdraw']\n"
     ]
    }
   ],
   "source": [
    "unique_values = Bankss['Description'].unique()\n",
    "\n",
    "print(unique_values)"
   ]
  },
  {
   "cell_type": "code",
   "execution_count": 36,
   "id": "755da8ee",
   "metadata": {},
   "outputs": [],
   "source": [
    "Bankss['Description'] = Bankss['Description'].str.replace(r'(withdraw,deposit)', 'withdraw and deposit', case=False, regex=True)\n"
   ]
  },
  {
   "cell_type": "code",
   "execution_count": 37,
   "id": "2e6d6e82",
   "metadata": {},
   "outputs": [
    {
     "name": "stdout",
     "output_type": "stream",
     "text": [
      "['withdraw' 'full function' 'cash dispenser only' 'withdraw and deposit'\n",
      " nan 'withdraw deposit' 'withdraw.deposit' 'cash withdraw' 'exchange'\n",
      " 'deposit' 'deposit,withdraw' 'withdraw,depsoit' 'atm center'\n",
      " 'withdraw وايداع' 'deposits,withdraw' 'depositand withdraw'\n",
      " 'deposit withdraw']\n"
     ]
    }
   ],
   "source": [
    "unique_values = Bankss['Description'].unique()\n",
    "\n",
    "print(unique_values)"
   ]
  },
  {
   "cell_type": "code",
   "execution_count": 38,
   "id": "ca2f45b1",
   "metadata": {},
   "outputs": [],
   "source": [
    "Bankss['Description'] = Bankss['Description'].str.replace(r'(withdraw deposit|withdraw.deposit)', 'withdraw and deposit', case=False, regex=True)\n"
   ]
  },
  {
   "cell_type": "code",
   "execution_count": 39,
   "id": "5cc26100",
   "metadata": {},
   "outputs": [
    {
     "name": "stdout",
     "output_type": "stream",
     "text": [
      "['withdraw' 'full function' 'cash dispenser only' 'withdraw and deposit'\n",
      " nan 'cash withdraw' 'exchange' 'deposit' 'deposit,withdraw'\n",
      " 'withdraw,depsoit' 'atm center' 'withdraw وايداع' 'deposits,withdraw'\n",
      " 'depositand withdraw' 'deposit withdraw']\n"
     ]
    }
   ],
   "source": [
    "unique_values = Bankss['Description'].unique()\n",
    "\n",
    "print(unique_values)"
   ]
  },
  {
   "cell_type": "code",
   "execution_count": 40,
   "id": "d7ef5f5e",
   "metadata": {},
   "outputs": [],
   "source": [
    "Bankss['Description'] = Bankss['Description'].str.replace(r'(deposit,withdraw|withdraw,depsoit|deposits,withdraw)', 'withdraw and deposit', case=False, regex=True)\n"
   ]
  },
  {
   "cell_type": "code",
   "execution_count": 41,
   "id": "0b3d5833",
   "metadata": {},
   "outputs": [
    {
     "name": "stdout",
     "output_type": "stream",
     "text": [
      "['withdraw' 'full function' 'cash dispenser only' 'withdraw and deposit'\n",
      " nan 'cash withdraw' 'exchange' 'deposit' 'atm center' 'withdraw وايداع'\n",
      " 'depositand withdraw' 'deposit withdraw']\n"
     ]
    }
   ],
   "source": [
    "unique_values = Bankss['Description'].unique()\n",
    "\n",
    "print(unique_values)"
   ]
  },
  {
   "cell_type": "code",
   "execution_count": 42,
   "id": "5b92436a",
   "metadata": {},
   "outputs": [],
   "source": [
    "Bankss['Description'] = Bankss['Description'].str.replace(r'(withdraw وايداع|depositand withdraw|deposit withdraw)', 'withdraw and deposit', case=False, regex=True)\n"
   ]
  },
  {
   "cell_type": "code",
   "execution_count": 43,
   "id": "9eaf78f7",
   "metadata": {},
   "outputs": [
    {
     "name": "stdout",
     "output_type": "stream",
     "text": [
      "['withdraw' 'full function' 'cash dispenser only' 'withdraw and deposit'\n",
      " nan 'cash withdraw' 'exchange' 'deposit' 'atm center']\n"
     ]
    }
   ],
   "source": [
    "unique_values = Bankss['Description'].unique()\n",
    "\n",
    "print(unique_values)"
   ]
  },
  {
   "cell_type": "code",
   "execution_count": 44,
   "id": "634b170d",
   "metadata": {},
   "outputs": [],
   "source": [
    "Bankss['Description'] = Bankss['Description'].str.replace(r'(atm center)', 'withdraw', case=False, regex=True)\n"
   ]
  },
  {
   "cell_type": "code",
   "execution_count": 45,
   "id": "5b4a7a9e",
   "metadata": {},
   "outputs": [
    {
     "name": "stdout",
     "output_type": "stream",
     "text": [
      "['withdraw' 'full function' 'cash dispenser only' 'withdraw and deposit'\n",
      " nan 'cash withdraw' 'exchange' 'deposit']\n"
     ]
    }
   ],
   "source": [
    "unique_values = Bankss['Description'].unique()\n",
    "\n",
    "print(unique_values)"
   ]
  },
  {
   "cell_type": "code",
   "execution_count": 46,
   "id": "bd3171be",
   "metadata": {},
   "outputs": [],
   "source": [
    "Bankss['Description'] = Bankss['Description'].str.replace(r'(cash withdraw)', 'withdraw', case=False, regex=True)\n"
   ]
  },
  {
   "cell_type": "code",
   "execution_count": 47,
   "id": "a8d69517",
   "metadata": {},
   "outputs": [
    {
     "name": "stdout",
     "output_type": "stream",
     "text": [
      "['withdraw' 'full function' 'cash dispenser only' 'withdraw and deposit'\n",
      " nan 'exchange' 'deposit']\n"
     ]
    }
   ],
   "source": [
    "unique_values = Bankss['Description'].unique()\n",
    "\n",
    "print(unique_values)\n"
   ]
  },
  {
   "cell_type": "code",
   "execution_count": 48,
   "id": "ee7470af",
   "metadata": {},
   "outputs": [
    {
     "name": "stdout",
     "output_type": "stream",
     "text": [
      "     Governate Area Name      ATM Name   Latitude  Longitude Description\n",
      "1249     Aswan     Aswan  Orange Aswan  24.116957  32.900968     deposit\n"
     ]
    }
   ],
   "source": [
    "# Specify the target column and desired value\n",
    "target_column = 'Description'\n",
    "desired_value = 'deposit'\n",
    "\n",
    "# Use boolean indexing to get the rows\n",
    "filtered_rows = Bankss[Bankss[target_column] == desired_value]\n",
    "\n",
    "# Print the filtered rows\n",
    "print(filtered_rows)"
   ]
  },
  {
   "cell_type": "code",
   "execution_count": 49,
   "id": "c82fec60",
   "metadata": {},
   "outputs": [
    {
     "name": "stdout",
     "output_type": "stream",
     "text": [
      "0                  withdraw\n",
      "1             full function\n",
      "2             full function\n",
      "3                  withdraw\n",
      "4                  withdraw\n",
      "               ...         \n",
      "4374          full function\n",
      "4375    cash dispenser only\n",
      "4376    cash dispenser only\n",
      "4377          full function\n",
      "4378          full function\n",
      "Name: Description, Length: 4379, dtype: object\n"
     ]
    }
   ],
   "source": [
    "print(Bankss['Description'])"
   ]
  },
  {
   "cell_type": "code",
   "execution_count": 50,
   "id": "fdd76340",
   "metadata": {},
   "outputs": [
    {
     "name": "stdout",
     "output_type": "stream",
     "text": [
      "        Column  Null_Percentage\n",
      "5  Description         1.301667\n",
      "2     ATM Name         0.205526\n",
      "0    Governate         0.000000\n",
      "1    Area Name         0.000000\n",
      "3     Latitude         0.000000\n",
      "4    Longitude         0.000000\n"
     ]
    }
   ],
   "source": [
    "# Calculate the percentage of null values for each column\n",
    "null_percentage = (Bankss.isnull().sum() / len(Bankss)) * 100\n",
    "\n",
    "# Create a DataFrame to display the results\n",
    "null_percentage_df = pd.DataFrame({'Column': null_percentage.index, 'Null_Percentage': null_percentage.values})\n",
    "\n",
    "# Sort the DataFrame by null percentage\n",
    "null_percentage_df = null_percentage_df.sort_values(by='Null_Percentage', ascending=False)\n",
    "\n",
    "# Print or display the results\n",
    "print(null_percentage_df)"
   ]
  },
  {
   "cell_type": "code",
   "execution_count": 51,
   "id": "1bdf9b58",
   "metadata": {},
   "outputs": [],
   "source": [
    "column_name = 'ATM Name'  \n",
    "Bankss.dropna(subset=[column_name], inplace=True)"
   ]
  },
  {
   "cell_type": "code",
   "execution_count": 52,
   "id": "4848641e",
   "metadata": {},
   "outputs": [
    {
     "name": "stdout",
     "output_type": "stream",
     "text": [
      "        Column  Null_Percentage\n",
      "5  Description         1.098398\n",
      "0    Governate         0.000000\n",
      "1    Area Name         0.000000\n",
      "2     ATM Name         0.000000\n",
      "3     Latitude         0.000000\n",
      "4    Longitude         0.000000\n"
     ]
    }
   ],
   "source": [
    "# Calculate the percentage of null values for each column\n",
    "null_percentage = (Bankss.isnull().sum() / len(Bankss)) * 100\n",
    "\n",
    "# Create a DataFrame to display the results\n",
    "null_percentage_df = pd.DataFrame({'Column': null_percentage.index, 'Null_Percentage': null_percentage.values})\n",
    "\n",
    "# Sort the DataFrame by null percentage\n",
    "null_percentage_df = null_percentage_df.sort_values(by='Null_Percentage', ascending=False)\n",
    "\n",
    "# Print or display the results\n",
    "print(null_percentage_df)"
   ]
  },
  {
   "cell_type": "code",
   "execution_count": 53,
   "id": "f1a8e183",
   "metadata": {},
   "outputs": [
    {
     "name": "stdout",
     "output_type": "stream",
     "text": [
      "0                                          Abu Al Matamir\n",
      "1                                          Abu Al Matamir\n",
      "2                                          Abu Al Matamir\n",
      "3                                          Abu Al Matamir\n",
      "4       Higher Institute of Administrative Scie. Janaklis\n",
      "                              ...                        \n",
      "4374                   Suez Canal Authority Water Company\n",
      "4375    Canal Company for Electricity Distribution - Suez\n",
      "4376                                 Fawry Company - Suez\n",
      "4377                                        Branch Suez 8\n",
      "4378                                         Tanmiah Suez\n",
      "Name: ATM Name, Length: 4370, dtype: object\n"
     ]
    }
   ],
   "source": [
    "print(Bankss['ATM Name'])"
   ]
  },
  {
   "cell_type": "code",
   "execution_count": 54,
   "id": "3462caf8",
   "metadata": {},
   "outputs": [],
   "source": [
    "column_name = 'Description' \n",
    "\n",
    "specific_value = 'withdraw'  \n",
    "\n",
    "Bankss[column_name].fillna(specific_value, inplace=True)"
   ]
  },
  {
   "cell_type": "code",
   "execution_count": 55,
   "id": "8677f94d",
   "metadata": {},
   "outputs": [
    {
     "name": "stdout",
     "output_type": "stream",
     "text": [
      "        Column  Null_Percentage\n",
      "0    Governate              0.0\n",
      "1    Area Name              0.0\n",
      "2     ATM Name              0.0\n",
      "3     Latitude              0.0\n",
      "4    Longitude              0.0\n",
      "5  Description              0.0\n"
     ]
    }
   ],
   "source": [
    "# Calculate the percentage of null values for each column\n",
    "null_percentage = (Bankss.isnull().sum() / len(Bankss)) * 100\n",
    "\n",
    "# Create a DataFrame to display the results\n",
    "null_percentage_df = pd.DataFrame({'Column': null_percentage.index, 'Null_Percentage': null_percentage.values})\n",
    "\n",
    "# Sort the DataFrame by null percentage\n",
    "null_percentage_df = null_percentage_df.sort_values(by='Null_Percentage', ascending=False)\n",
    "\n",
    "# Print or display the results\n",
    "print(null_percentage_df)"
   ]
  },
  {
   "cell_type": "code",
   "execution_count": 56,
   "id": "d1d7ffe8",
   "metadata": {},
   "outputs": [
    {
     "data": {
      "text/html": [
       "<div>\n",
       "<style scoped>\n",
       "    .dataframe tbody tr th:only-of-type {\n",
       "        vertical-align: middle;\n",
       "    }\n",
       "\n",
       "    .dataframe tbody tr th {\n",
       "        vertical-align: top;\n",
       "    }\n",
       "\n",
       "    .dataframe thead th {\n",
       "        text-align: right;\n",
       "    }\n",
       "</style>\n",
       "<table border=\"1\" class=\"dataframe\">\n",
       "  <thead>\n",
       "    <tr style=\"text-align: right;\">\n",
       "      <th></th>\n",
       "      <th>Governate</th>\n",
       "      <th>Area Name</th>\n",
       "      <th>ATM Name</th>\n",
       "      <th>Latitude</th>\n",
       "      <th>Longitude</th>\n",
       "      <th>Description</th>\n",
       "    </tr>\n",
       "  </thead>\n",
       "  <tbody>\n",
       "    <tr>\n",
       "      <th>0</th>\n",
       "      <td>Al-Behera</td>\n",
       "      <td>Abu Al Matamir</td>\n",
       "      <td>Abu Al Matamir</td>\n",
       "      <td>30.912211</td>\n",
       "      <td>30.170589</td>\n",
       "      <td>withdraw</td>\n",
       "    </tr>\n",
       "    <tr>\n",
       "      <th>1</th>\n",
       "      <td>Al-Behera</td>\n",
       "      <td>Abu Al Matamir</td>\n",
       "      <td>Abu Al Matamir</td>\n",
       "      <td>30.910789</td>\n",
       "      <td>30.177019</td>\n",
       "      <td>full function</td>\n",
       "    </tr>\n",
       "    <tr>\n",
       "      <th>2</th>\n",
       "      <td>Al-Behera</td>\n",
       "      <td>Abu Al Matamir</td>\n",
       "      <td>Abu Al Matamir</td>\n",
       "      <td>30.814059</td>\n",
       "      <td>29.988302</td>\n",
       "      <td>full function</td>\n",
       "    </tr>\n",
       "    <tr>\n",
       "      <th>3</th>\n",
       "      <td>Al-Behera</td>\n",
       "      <td>Abu Al Matamir</td>\n",
       "      <td>Abu Al Matamir</td>\n",
       "      <td>30.915840</td>\n",
       "      <td>30.176447</td>\n",
       "      <td>withdraw</td>\n",
       "    </tr>\n",
       "    <tr>\n",
       "      <th>4</th>\n",
       "      <td>Al-Behera</td>\n",
       "      <td>Abu Al Matamir</td>\n",
       "      <td>Higher Institute of Administrative Scie. Janaklis</td>\n",
       "      <td>30.860114</td>\n",
       "      <td>30.154931</td>\n",
       "      <td>withdraw</td>\n",
       "    </tr>\n",
       "  </tbody>\n",
       "</table>\n",
       "</div>"
      ],
      "text/plain": [
       "   Governate       Area Name  \\\n",
       "0  Al-Behera  Abu Al Matamir   \n",
       "1  Al-Behera  Abu Al Matamir   \n",
       "2  Al-Behera  Abu Al Matamir   \n",
       "3  Al-Behera  Abu Al Matamir   \n",
       "4  Al-Behera  Abu Al Matamir   \n",
       "\n",
       "                                            ATM Name   Latitude  Longitude  \\\n",
       "0                                     Abu Al Matamir  30.912211  30.170589   \n",
       "1                                     Abu Al Matamir  30.910789  30.177019   \n",
       "2                                     Abu Al Matamir  30.814059  29.988302   \n",
       "3                                     Abu Al Matamir  30.915840  30.176447   \n",
       "4  Higher Institute of Administrative Scie. Janaklis  30.860114  30.154931   \n",
       "\n",
       "     Description  \n",
       "0       withdraw  \n",
       "1  full function  \n",
       "2  full function  \n",
       "3       withdraw  \n",
       "4       withdraw  "
      ]
     },
     "execution_count": 56,
     "metadata": {},
     "output_type": "execute_result"
    }
   ],
   "source": [
    "Bankss.head()"
   ]
  },
  {
   "cell_type": "code",
   "execution_count": 57,
   "id": "692232b8",
   "metadata": {},
   "outputs": [
    {
     "name": "stdout",
     "output_type": "stream",
     "text": [
      "The 'Area Name' column does not contain the value 'All Areas'.\n"
     ]
    }
   ],
   "source": [
    "is_all_areas_present = \"All Areas\" in Bankss['Area Name'].values\n",
    "\n",
    "if is_all_areas_present:\n",
    "    print(\"The 'Area Name' column contains the value 'All Areas'.\")\n",
    "else:\n",
    "    print(\"The 'Area Name' column does not contain the value 'All Areas'.\")"
   ]
  },
  {
   "cell_type": "code",
   "execution_count": 58,
   "id": "129341d5",
   "metadata": {},
   "outputs": [
    {
     "name": "stdout",
     "output_type": "stream",
     "text": [
      "       Governate       Area Name                                  ATM Name  \\\n",
      "462  Al-Monoufia         Ashmoun         Ramlet Alangab Village Local Unit   \n",
      "463  Al-Monoufia         Ashmoun  The local unit Saqiet Abo Shaara Village   \n",
      "464  Al-Monoufia         Ashmoun  The local unit Saqiet Abo Shaara Village   \n",
      "465  Al-Monoufia         Ashmoun              Shanshour Village Local Unit   \n",
      "531  Al-Monoufia          Quesna            Mit Berrah community building    \n",
      "564  Al-Monoufia  Shebin El Koum               Shebin Alkoum Police office   \n",
      "565  Al-Monoufia  Shebin El Koum                 Mit Khalaf diets Hospital   \n",
      "\n",
      "      Latitude  Longitude Description  \n",
      "462  30.369950  30.938976    exchange  \n",
      "463  30.314414  31.089525    exchange  \n",
      "464  30.314414  31.089525    exchange  \n",
      "465  30.352645  30.999161    exchange  \n",
      "531  30.547851  31.211648    exchange  \n",
      "564  30.557941  31.006793    exchange  \n",
      "565  30.543830  31.047010    exchange  \n"
     ]
    }
   ],
   "source": [
    "# Specify the target column and desired value\n",
    "target_column = 'Description'\n",
    "desired_value = 'exchange'\n",
    "\n",
    "# Use boolean indexing to get the rows\n",
    "filtered_rows = Bankss[Bankss[target_column] == desired_value]\n",
    "\n",
    "# Print the filtered rows\n",
    "print(filtered_rows)"
   ]
  },
  {
   "cell_type": "code",
   "execution_count": 59,
   "id": "d6b44a47",
   "metadata": {},
   "outputs": [],
   "source": [
    "atm_counts = Bankss.groupby('Governate')['ATM Name'].count().reset_index()\n",
    "atm_counts.columns = ['Governate', 'ATM_Count']"
   ]
  },
  {
   "cell_type": "code",
   "execution_count": 60,
   "id": "72227eb8",
   "metadata": {},
   "outputs": [
    {
     "data": {
      "image/png": "[encoded data removed]",
      "text/plain": [
       "<Figure size 1200x600 with 1 Axes>"
      ]
     },
     "metadata": {},
     "output_type": "display_data"
    }
   ],
   "source": [
    "import matplotlib.pyplot as plt\n",
    "\n",
    "plt.figure(figsize=(12, 6))\n",
    "plt.bar(atm_counts['Governate'], atm_counts['ATM_Count'])\n",
    "plt.xlabel('Governate')\n",
    "plt.ylabel('ATM Count')\n",
    "plt.title('ATM Counts by Governorate')\n",
    "plt.xticks(rotation=90)\n",
    "plt.show()\n"
   ]
  },
  {
   "cell_type": "code",
   "execution_count": 61,
   "id": "d54b7f32",
   "metadata": {},
   "outputs": [
    {
     "name": "stdout",
     "output_type": "stream",
     "text": [
      "withdraw                50.434783\n",
      "full function           33.340961\n",
      "cash dispenser only     13.638444\n",
      "withdraw and deposit     2.402746\n",
      "exchange                 0.160183\n",
      "deposit                  0.022883\n",
      "Name: Description, dtype: float64\n"
     ]
    }
   ],
   "source": [
    "# Assuming you have a DataFrame named 'df' with a 'Description' column\n",
    "# Calculate the value counts as percentages\n",
    "value_counts = Bankss['Description'].value_counts(normalize=True) * 100\n",
    "print(value_counts)"
   ]
  },
  {
   "cell_type": "code",
   "execution_count": 67,
   "id": "f423df08",
   "metadata": {},
   "outputs": [],
   "source": [
    "# Save the modified data to another CSV file\n",
    "Bankss.to_csv('ATM.csv', index=False)"
   ]
  },
  {
   "cell_type": "code",
   "execution_count": null,
   "id": "1dc06332",
   "metadata": {},
   "outputs": [],
   "source": []
  },
  {
   "cell_type": "code",
   "execution_count": null,
   "id": "e86cb68b",
   "metadata": {},
   "outputs": [],
   "source": []
  }
 ],
 "metadata": {
  "kernelspec": {
   "display_name": "Python 3 (ipykernel)",
   "language": "python",
   "name": "python3"
  },
  "language_info": {
   "codemirror_mode": {
    "name": "ipython",
    "version": 3
   },
   "file_extension": ".py",
   "mimetype": "text/x-python",
   "name": "python",
   "nbconvert_exporter": "python",
   "pygments_lexer": "ipython3",
   "version": "3.9.13"
  }
 },
 "nbformat": 4,
 "nbformat_minor": 5
}
